{
 "cells": [
  {
   "cell_type": "markdown",
   "id": "06bd7e52-63c1-42f1-9b5e-0bddf07ed873",
   "metadata": {},
   "source": [
    "<center>\n",
    "    <img src=\"https://cf-courses-data.s3.us.cloud-object-storage.appdomain.cloud/assets/logos/SN_web_lightmode.png\" width=\"300\" alt=\"cognitiveclass.ai logo\">\n",
    "</center>\n"
   ]
  },
  {
   "cell_type": "markdown",
   "id": "e2267ffc-d427-4a34-b78d-6fcaf54627b4",
   "metadata": {},
   "source": [
    "# **Credit Card Fraud Detection with Decision Trees and SVM**\n"
   ]
  },
  {
   "cell_type": "markdown",
   "id": "42167cb0-49ce-4d37-af40-2abe99d090be",
   "metadata": {},
   "source": [
    "Estimated time needed: **30** minutes\n"
   ]
  },
  {
   "cell_type": "markdown",
   "id": "897f9230-7324-4b69-8075-e3ebd7b5010f",
   "metadata": {},
   "source": [
    "In this lab you will consolidate your machine learning (ML) modeling skills by using two popular classification models to identify fraudulent credit card transactions. These models are: Decision Tree and Support Vector Machine. You will use a real dataset of credit card transactions to train each of these models. You will then use the trained model to assess if a credit card transaction is fraudulent or not.\n"
   ]
  },
  {
   "cell_type": "markdown",
   "id": "c5379ca6-6863-4750-859c-df41abd58ce3",
   "metadata": {},
   "source": [
    "## Objectives\n"
   ]
  },
  {
   "cell_type": "markdown",
   "id": "114f3d30-f844-4916-bef8-d8e5f32d141a",
   "metadata": {},
   "source": [
    "After completing this lab you will be able to:\n"
   ]
  },
  {
   "cell_type": "markdown",
   "id": "45c8fc32-05a3-4eab-bcc4-101ce2639b13",
   "metadata": {},
   "source": [
    "* Perform basic data preprocessing in Python\n",
    "* Model a classification task using the Scikit-Learn Python APIs\n",
    "* Train Suppport Vector Machine and Decision Tree models using Scikit-Learn\n",
    "* Run inference and assess the quality of the trained models\n"
   ]
  },
  {
   "cell_type": "markdown",
   "id": "df14a33b-cad2-4e78-a0da-013ea2f45d4a",
   "metadata": {},
   "source": [
    "<div id=\"Introduction\">\n",
    "    <h2>Introduction</h2>\n",
    "    <br>Imagine that you work for a financial institution and part of your job is to build a model that predicts if a credit card transaction is fraudulent or not. You can model the problem as a binary classification problem. A transaction belongs to the positive class (1) if it is a fraud, otherwise it belongs to the negative class (0).\n",
    "    <br>\n",
    "    <br>You have access to transactions that occured over a certain period of time. The majority of the transactions are normally legitimate and only a small fraction are non-legitimate. Thus, typically you have access to a dataset that is highly unbalanced. This is also the case of the current dataset: only 492 transactions out of 284,807 are fraudulent (the positive class - the frauds - accounts for 0.172% of all transactions).\n",
    "    <br>\n",
    "    <br>This is a Kaggle dataset. You can find this \"Credit Card Fraud Detection\" dataset from the following link: <a href=\"https://www.kaggle.com/mlg-ulb/creditcardfraud\">Credit Card Fraud Detection</a>.\n",
    "<br>\n",
    "    <br>To train the model, you can use part of the input dataset, while the remaining data can be utilized to assess the quality of the trained model. First, let's import the necessary libraries and download the dataset.\n",
    "    <br>\n",
    "</div>\n"
   ]
  },
  {
   "cell_type": "markdown",
   "id": "12614f2f-c54f-4dc7-81b1-1c83fb0deb7c",
   "metadata": {},
   "source": [
    "<div id=\"import_libraries\">\n",
    "    <h2>Import Libraries</h2>\n",
    "</div>\n"
   ]
  },
  {
   "cell_type": "markdown",
   "id": "1901739d-a1d8-4566-992b-d5987d079e1e",
   "metadata": {},
   "source": [
    "First, make sure that the required libraries are available. Run the cell below to ensure that.\n"
   ]
  },
  {
   "cell_type": "code",
   "execution_count": 1,
   "id": "6bee2c01-c86f-47c2-89d8-8d2acbd13a1c",
   "metadata": {},
   "outputs": [
    {
     "name": "stdout",
     "output_type": "stream",
     "text": [
      "Requirement already satisfied: pandas==2.2.3 in /Users/yanxu/miniconda3/envs/mlbasic/lib/python3.12/site-packages (2.2.3)\n",
      "Requirement already satisfied: numpy>=1.26.0 in /Users/yanxu/miniconda3/envs/mlbasic/lib/python3.12/site-packages (from pandas==2.2.3) (2.2.0)\n",
      "Requirement already satisfied: python-dateutil>=2.8.2 in /Users/yanxu/miniconda3/envs/mlbasic/lib/python3.12/site-packages (from pandas==2.2.3) (2.9.0.post0)\n",
      "Requirement already satisfied: pytz>=2020.1 in /Users/yanxu/miniconda3/envs/mlbasic/lib/python3.12/site-packages (from pandas==2.2.3) (2025.2)\n",
      "Requirement already satisfied: tzdata>=2022.7 in /Users/yanxu/miniconda3/envs/mlbasic/lib/python3.12/site-packages (from pandas==2.2.3) (2025.2)\n",
      "Requirement already satisfied: six>=1.5 in /Users/yanxu/miniconda3/envs/mlbasic/lib/python3.12/site-packages (from python-dateutil>=2.8.2->pandas==2.2.3) (1.17.0)\n",
      "Requirement already satisfied: scikit-learn==1.6.0 in /Users/yanxu/miniconda3/envs/mlbasic/lib/python3.12/site-packages (1.6.0)\n",
      "Requirement already satisfied: numpy>=1.19.5 in /Users/yanxu/miniconda3/envs/mlbasic/lib/python3.12/site-packages (from scikit-learn==1.6.0) (2.2.0)\n",
      "Requirement already satisfied: scipy>=1.6.0 in /Users/yanxu/miniconda3/envs/mlbasic/lib/python3.12/site-packages (from scikit-learn==1.6.0) (1.15.2)\n",
      "Requirement already satisfied: joblib>=1.2.0 in /Users/yanxu/miniconda3/envs/mlbasic/lib/python3.12/site-packages (from scikit-learn==1.6.0) (1.4.2)\n",
      "Requirement already satisfied: threadpoolctl>=3.1.0 in /Users/yanxu/miniconda3/envs/mlbasic/lib/python3.12/site-packages (from scikit-learn==1.6.0) (3.6.0)\n",
      "Requirement already satisfied: matplotlib==3.9.3 in /Users/yanxu/miniconda3/envs/mlbasic/lib/python3.12/site-packages (3.9.3)\n",
      "Requirement already satisfied: contourpy>=1.0.1 in /Users/yanxu/miniconda3/envs/mlbasic/lib/python3.12/site-packages (from matplotlib==3.9.3) (1.3.1)\n",
      "Requirement already satisfied: cycler>=0.10 in /Users/yanxu/miniconda3/envs/mlbasic/lib/python3.12/site-packages (from matplotlib==3.9.3) (0.12.1)\n",
      "Requirement already satisfied: fonttools>=4.22.0 in /Users/yanxu/miniconda3/envs/mlbasic/lib/python3.12/site-packages (from matplotlib==3.9.3) (4.56.0)\n",
      "Requirement already satisfied: kiwisolver>=1.3.1 in /Users/yanxu/miniconda3/envs/mlbasic/lib/python3.12/site-packages (from matplotlib==3.9.3) (1.4.8)\n",
      "Requirement already satisfied: numpy>=1.23 in /Users/yanxu/miniconda3/envs/mlbasic/lib/python3.12/site-packages (from matplotlib==3.9.3) (2.2.0)\n",
      "Requirement already satisfied: packaging>=20.0 in /Users/yanxu/miniconda3/envs/mlbasic/lib/python3.12/site-packages (from matplotlib==3.9.3) (24.2)\n",
      "Requirement already satisfied: pillow>=8 in /Users/yanxu/miniconda3/envs/mlbasic/lib/python3.12/site-packages (from matplotlib==3.9.3) (11.1.0)\n",
      "Requirement already satisfied: pyparsing>=2.3.1 in /Users/yanxu/miniconda3/envs/mlbasic/lib/python3.12/site-packages (from matplotlib==3.9.3) (3.2.3)\n",
      "Requirement already satisfied: python-dateutil>=2.7 in /Users/yanxu/miniconda3/envs/mlbasic/lib/python3.12/site-packages (from matplotlib==3.9.3) (2.9.0.post0)\n",
      "Requirement already satisfied: six>=1.5 in /Users/yanxu/miniconda3/envs/mlbasic/lib/python3.12/site-packages (from python-dateutil>=2.7->matplotlib==3.9.3) (1.17.0)\n"
     ]
    }
   ],
   "source": [
    "!pip install pandas==2.2.3\n",
    "!pip install scikit-learn==1.6.0\n",
    "!pip install matplotlib==3.9.3"
   ]
  },
  {
   "cell_type": "markdown",
   "id": "3178cf8f-3c51-4828-a346-92c399cf585d",
   "metadata": {},
   "source": [
    "To import the libraries that will be used in this lab, execute the cells below. \n"
   ]
  },
  {
   "cell_type": "code",
   "execution_count": 2,
   "id": "33d5a40e-507e-458c-901f-67f95a8e5a1c",
   "metadata": {},
   "outputs": [],
   "source": [
    "# Import the libraries we need to use in this lab\n",
    "from __future__ import print_function\n",
    "import pandas as pd\n",
    "import matplotlib.pyplot as plt\n",
    "%matplotlib inline\n",
    "from sklearn.model_selection import train_test_split\n",
    "from sklearn.preprocessing import normalize, StandardScaler\n",
    "from sklearn.utils.class_weight import compute_sample_weight\n",
    "from sklearn.tree import DecisionTreeClassifier\n",
    "from sklearn.metrics import roc_auc_score\n",
    "from sklearn.svm import LinearSVC\n",
    "\n",
    "import warnings\n",
    "warnings.filterwarnings('ignore')"
   ]
  },
  {
   "cell_type": "markdown",
   "id": "e579c7f1-ac8b-4357-aa87-1bdba2162cb7",
   "metadata": {},
   "source": [
    "## Load the dataset\n",
    "\n",
    "Execute the cell below to load the dataset to the variable `raw_data`. The code will fetch the data set for the URL and load the same to the variable. A snapshot of the dataset will be generated as an output.\n"
   ]
  },
  {
   "cell_type": "code",
   "execution_count": 3,
   "id": "1328a7f1-2e0d-48c6-93ad-b1b8d8e1fbde",
   "metadata": {},
   "outputs": [
    {
     "data": {
      "text/html": [
       "<div>\n",
       "<style scoped>\n",
       "    .dataframe tbody tr th:only-of-type {\n",
       "        vertical-align: middle;\n",
       "    }\n",
       "\n",
       "    .dataframe tbody tr th {\n",
       "        vertical-align: top;\n",
       "    }\n",
       "\n",
       "    .dataframe thead th {\n",
       "        text-align: right;\n",
       "    }\n",
       "</style>\n",
       "<table border=\"1\" class=\"dataframe\">\n",
       "  <thead>\n",
       "    <tr style=\"text-align: right;\">\n",
       "      <th></th>\n",
       "      <th>Time</th>\n",
       "      <th>V1</th>\n",
       "      <th>V2</th>\n",
       "      <th>V3</th>\n",
       "      <th>V4</th>\n",
       "      <th>V5</th>\n",
       "      <th>V6</th>\n",
       "      <th>V7</th>\n",
       "      <th>V8</th>\n",
       "      <th>V9</th>\n",
       "      <th>...</th>\n",
       "      <th>V21</th>\n",
       "      <th>V22</th>\n",
       "      <th>V23</th>\n",
       "      <th>V24</th>\n",
       "      <th>V25</th>\n",
       "      <th>V26</th>\n",
       "      <th>V27</th>\n",
       "      <th>V28</th>\n",
       "      <th>Amount</th>\n",
       "      <th>Class</th>\n",
       "    </tr>\n",
       "  </thead>\n",
       "  <tbody>\n",
       "    <tr>\n",
       "      <th>0</th>\n",
       "      <td>0.0</td>\n",
       "      <td>-1.359807</td>\n",
       "      <td>-0.072781</td>\n",
       "      <td>2.536347</td>\n",
       "      <td>1.378155</td>\n",
       "      <td>-0.338321</td>\n",
       "      <td>0.462388</td>\n",
       "      <td>0.239599</td>\n",
       "      <td>0.098698</td>\n",
       "      <td>0.363787</td>\n",
       "      <td>...</td>\n",
       "      <td>-0.018307</td>\n",
       "      <td>0.277838</td>\n",
       "      <td>-0.110474</td>\n",
       "      <td>0.066928</td>\n",
       "      <td>0.128539</td>\n",
       "      <td>-0.189115</td>\n",
       "      <td>0.133558</td>\n",
       "      <td>-0.021053</td>\n",
       "      <td>149.62</td>\n",
       "      <td>0</td>\n",
       "    </tr>\n",
       "    <tr>\n",
       "      <th>1</th>\n",
       "      <td>0.0</td>\n",
       "      <td>1.191857</td>\n",
       "      <td>0.266151</td>\n",
       "      <td>0.166480</td>\n",
       "      <td>0.448154</td>\n",
       "      <td>0.060018</td>\n",
       "      <td>-0.082361</td>\n",
       "      <td>-0.078803</td>\n",
       "      <td>0.085102</td>\n",
       "      <td>-0.255425</td>\n",
       "      <td>...</td>\n",
       "      <td>-0.225775</td>\n",
       "      <td>-0.638672</td>\n",
       "      <td>0.101288</td>\n",
       "      <td>-0.339846</td>\n",
       "      <td>0.167170</td>\n",
       "      <td>0.125895</td>\n",
       "      <td>-0.008983</td>\n",
       "      <td>0.014724</td>\n",
       "      <td>2.69</td>\n",
       "      <td>0</td>\n",
       "    </tr>\n",
       "    <tr>\n",
       "      <th>2</th>\n",
       "      <td>1.0</td>\n",
       "      <td>-1.358354</td>\n",
       "      <td>-1.340163</td>\n",
       "      <td>1.773209</td>\n",
       "      <td>0.379780</td>\n",
       "      <td>-0.503198</td>\n",
       "      <td>1.800499</td>\n",
       "      <td>0.791461</td>\n",
       "      <td>0.247676</td>\n",
       "      <td>-1.514654</td>\n",
       "      <td>...</td>\n",
       "      <td>0.247998</td>\n",
       "      <td>0.771679</td>\n",
       "      <td>0.909412</td>\n",
       "      <td>-0.689281</td>\n",
       "      <td>-0.327642</td>\n",
       "      <td>-0.139097</td>\n",
       "      <td>-0.055353</td>\n",
       "      <td>-0.059752</td>\n",
       "      <td>378.66</td>\n",
       "      <td>0</td>\n",
       "    </tr>\n",
       "    <tr>\n",
       "      <th>3</th>\n",
       "      <td>1.0</td>\n",
       "      <td>-0.966272</td>\n",
       "      <td>-0.185226</td>\n",
       "      <td>1.792993</td>\n",
       "      <td>-0.863291</td>\n",
       "      <td>-0.010309</td>\n",
       "      <td>1.247203</td>\n",
       "      <td>0.237609</td>\n",
       "      <td>0.377436</td>\n",
       "      <td>-1.387024</td>\n",
       "      <td>...</td>\n",
       "      <td>-0.108300</td>\n",
       "      <td>0.005274</td>\n",
       "      <td>-0.190321</td>\n",
       "      <td>-1.175575</td>\n",
       "      <td>0.647376</td>\n",
       "      <td>-0.221929</td>\n",
       "      <td>0.062723</td>\n",
       "      <td>0.061458</td>\n",
       "      <td>123.50</td>\n",
       "      <td>0</td>\n",
       "    </tr>\n",
       "    <tr>\n",
       "      <th>4</th>\n",
       "      <td>2.0</td>\n",
       "      <td>-1.158233</td>\n",
       "      <td>0.877737</td>\n",
       "      <td>1.548718</td>\n",
       "      <td>0.403034</td>\n",
       "      <td>-0.407193</td>\n",
       "      <td>0.095921</td>\n",
       "      <td>0.592941</td>\n",
       "      <td>-0.270533</td>\n",
       "      <td>0.817739</td>\n",
       "      <td>...</td>\n",
       "      <td>-0.009431</td>\n",
       "      <td>0.798278</td>\n",
       "      <td>-0.137458</td>\n",
       "      <td>0.141267</td>\n",
       "      <td>-0.206010</td>\n",
       "      <td>0.502292</td>\n",
       "      <td>0.219422</td>\n",
       "      <td>0.215153</td>\n",
       "      <td>69.99</td>\n",
       "      <td>0</td>\n",
       "    </tr>\n",
       "    <tr>\n",
       "      <th>...</th>\n",
       "      <td>...</td>\n",
       "      <td>...</td>\n",
       "      <td>...</td>\n",
       "      <td>...</td>\n",
       "      <td>...</td>\n",
       "      <td>...</td>\n",
       "      <td>...</td>\n",
       "      <td>...</td>\n",
       "      <td>...</td>\n",
       "      <td>...</td>\n",
       "      <td>...</td>\n",
       "      <td>...</td>\n",
       "      <td>...</td>\n",
       "      <td>...</td>\n",
       "      <td>...</td>\n",
       "      <td>...</td>\n",
       "      <td>...</td>\n",
       "      <td>...</td>\n",
       "      <td>...</td>\n",
       "      <td>...</td>\n",
       "      <td>...</td>\n",
       "    </tr>\n",
       "    <tr>\n",
       "      <th>284802</th>\n",
       "      <td>172786.0</td>\n",
       "      <td>-11.881118</td>\n",
       "      <td>10.071785</td>\n",
       "      <td>-9.834783</td>\n",
       "      <td>-2.066656</td>\n",
       "      <td>-5.364473</td>\n",
       "      <td>-2.606837</td>\n",
       "      <td>-4.918215</td>\n",
       "      <td>7.305334</td>\n",
       "      <td>1.914428</td>\n",
       "      <td>...</td>\n",
       "      <td>0.213454</td>\n",
       "      <td>0.111864</td>\n",
       "      <td>1.014480</td>\n",
       "      <td>-0.509348</td>\n",
       "      <td>1.436807</td>\n",
       "      <td>0.250034</td>\n",
       "      <td>0.943651</td>\n",
       "      <td>0.823731</td>\n",
       "      <td>0.77</td>\n",
       "      <td>0</td>\n",
       "    </tr>\n",
       "    <tr>\n",
       "      <th>284803</th>\n",
       "      <td>172787.0</td>\n",
       "      <td>-0.732789</td>\n",
       "      <td>-0.055080</td>\n",
       "      <td>2.035030</td>\n",
       "      <td>-0.738589</td>\n",
       "      <td>0.868229</td>\n",
       "      <td>1.058415</td>\n",
       "      <td>0.024330</td>\n",
       "      <td>0.294869</td>\n",
       "      <td>0.584800</td>\n",
       "      <td>...</td>\n",
       "      <td>0.214205</td>\n",
       "      <td>0.924384</td>\n",
       "      <td>0.012463</td>\n",
       "      <td>-1.016226</td>\n",
       "      <td>-0.606624</td>\n",
       "      <td>-0.395255</td>\n",
       "      <td>0.068472</td>\n",
       "      <td>-0.053527</td>\n",
       "      <td>24.79</td>\n",
       "      <td>0</td>\n",
       "    </tr>\n",
       "    <tr>\n",
       "      <th>284804</th>\n",
       "      <td>172788.0</td>\n",
       "      <td>1.919565</td>\n",
       "      <td>-0.301254</td>\n",
       "      <td>-3.249640</td>\n",
       "      <td>-0.557828</td>\n",
       "      <td>2.630515</td>\n",
       "      <td>3.031260</td>\n",
       "      <td>-0.296827</td>\n",
       "      <td>0.708417</td>\n",
       "      <td>0.432454</td>\n",
       "      <td>...</td>\n",
       "      <td>0.232045</td>\n",
       "      <td>0.578229</td>\n",
       "      <td>-0.037501</td>\n",
       "      <td>0.640134</td>\n",
       "      <td>0.265745</td>\n",
       "      <td>-0.087371</td>\n",
       "      <td>0.004455</td>\n",
       "      <td>-0.026561</td>\n",
       "      <td>67.88</td>\n",
       "      <td>0</td>\n",
       "    </tr>\n",
       "    <tr>\n",
       "      <th>284805</th>\n",
       "      <td>172788.0</td>\n",
       "      <td>-0.240440</td>\n",
       "      <td>0.530483</td>\n",
       "      <td>0.702510</td>\n",
       "      <td>0.689799</td>\n",
       "      <td>-0.377961</td>\n",
       "      <td>0.623708</td>\n",
       "      <td>-0.686180</td>\n",
       "      <td>0.679145</td>\n",
       "      <td>0.392087</td>\n",
       "      <td>...</td>\n",
       "      <td>0.265245</td>\n",
       "      <td>0.800049</td>\n",
       "      <td>-0.163298</td>\n",
       "      <td>0.123205</td>\n",
       "      <td>-0.569159</td>\n",
       "      <td>0.546668</td>\n",
       "      <td>0.108821</td>\n",
       "      <td>0.104533</td>\n",
       "      <td>10.00</td>\n",
       "      <td>0</td>\n",
       "    </tr>\n",
       "    <tr>\n",
       "      <th>284806</th>\n",
       "      <td>172792.0</td>\n",
       "      <td>-0.533413</td>\n",
       "      <td>-0.189733</td>\n",
       "      <td>0.703337</td>\n",
       "      <td>-0.506271</td>\n",
       "      <td>-0.012546</td>\n",
       "      <td>-0.649617</td>\n",
       "      <td>1.577006</td>\n",
       "      <td>-0.414650</td>\n",
       "      <td>0.486180</td>\n",
       "      <td>...</td>\n",
       "      <td>0.261057</td>\n",
       "      <td>0.643078</td>\n",
       "      <td>0.376777</td>\n",
       "      <td>0.008797</td>\n",
       "      <td>-0.473649</td>\n",
       "      <td>-0.818267</td>\n",
       "      <td>-0.002415</td>\n",
       "      <td>0.013649</td>\n",
       "      <td>217.00</td>\n",
       "      <td>0</td>\n",
       "    </tr>\n",
       "  </tbody>\n",
       "</table>\n",
       "<p>284807 rows × 31 columns</p>\n",
       "</div>"
      ],
      "text/plain": [
       "            Time         V1         V2        V3        V4        V5  \\\n",
       "0            0.0  -1.359807  -0.072781  2.536347  1.378155 -0.338321   \n",
       "1            0.0   1.191857   0.266151  0.166480  0.448154  0.060018   \n",
       "2            1.0  -1.358354  -1.340163  1.773209  0.379780 -0.503198   \n",
       "3            1.0  -0.966272  -0.185226  1.792993 -0.863291 -0.010309   \n",
       "4            2.0  -1.158233   0.877737  1.548718  0.403034 -0.407193   \n",
       "...          ...        ...        ...       ...       ...       ...   \n",
       "284802  172786.0 -11.881118  10.071785 -9.834783 -2.066656 -5.364473   \n",
       "284803  172787.0  -0.732789  -0.055080  2.035030 -0.738589  0.868229   \n",
       "284804  172788.0   1.919565  -0.301254 -3.249640 -0.557828  2.630515   \n",
       "284805  172788.0  -0.240440   0.530483  0.702510  0.689799 -0.377961   \n",
       "284806  172792.0  -0.533413  -0.189733  0.703337 -0.506271 -0.012546   \n",
       "\n",
       "              V6        V7        V8        V9  ...       V21       V22  \\\n",
       "0       0.462388  0.239599  0.098698  0.363787  ... -0.018307  0.277838   \n",
       "1      -0.082361 -0.078803  0.085102 -0.255425  ... -0.225775 -0.638672   \n",
       "2       1.800499  0.791461  0.247676 -1.514654  ...  0.247998  0.771679   \n",
       "3       1.247203  0.237609  0.377436 -1.387024  ... -0.108300  0.005274   \n",
       "4       0.095921  0.592941 -0.270533  0.817739  ... -0.009431  0.798278   \n",
       "...          ...       ...       ...       ...  ...       ...       ...   \n",
       "284802 -2.606837 -4.918215  7.305334  1.914428  ...  0.213454  0.111864   \n",
       "284803  1.058415  0.024330  0.294869  0.584800  ...  0.214205  0.924384   \n",
       "284804  3.031260 -0.296827  0.708417  0.432454  ...  0.232045  0.578229   \n",
       "284805  0.623708 -0.686180  0.679145  0.392087  ...  0.265245  0.800049   \n",
       "284806 -0.649617  1.577006 -0.414650  0.486180  ...  0.261057  0.643078   \n",
       "\n",
       "             V23       V24       V25       V26       V27       V28  Amount  \\\n",
       "0      -0.110474  0.066928  0.128539 -0.189115  0.133558 -0.021053  149.62   \n",
       "1       0.101288 -0.339846  0.167170  0.125895 -0.008983  0.014724    2.69   \n",
       "2       0.909412 -0.689281 -0.327642 -0.139097 -0.055353 -0.059752  378.66   \n",
       "3      -0.190321 -1.175575  0.647376 -0.221929  0.062723  0.061458  123.50   \n",
       "4      -0.137458  0.141267 -0.206010  0.502292  0.219422  0.215153   69.99   \n",
       "...          ...       ...       ...       ...       ...       ...     ...   \n",
       "284802  1.014480 -0.509348  1.436807  0.250034  0.943651  0.823731    0.77   \n",
       "284803  0.012463 -1.016226 -0.606624 -0.395255  0.068472 -0.053527   24.79   \n",
       "284804 -0.037501  0.640134  0.265745 -0.087371  0.004455 -0.026561   67.88   \n",
       "284805 -0.163298  0.123205 -0.569159  0.546668  0.108821  0.104533   10.00   \n",
       "284806  0.376777  0.008797 -0.473649 -0.818267 -0.002415  0.013649  217.00   \n",
       "\n",
       "        Class  \n",
       "0           0  \n",
       "1           0  \n",
       "2           0  \n",
       "3           0  \n",
       "4           0  \n",
       "...       ...  \n",
       "284802      0  \n",
       "284803      0  \n",
       "284804      0  \n",
       "284805      0  \n",
       "284806      0  \n",
       "\n",
       "[284807 rows x 31 columns]"
      ]
     },
     "execution_count": 3,
     "metadata": {},
     "output_type": "execute_result"
    }
   ],
   "source": [
    "# download the dataset\n",
    "url= \"https://cf-courses-data.s3.us.cloud-object-storage.appdomain.cloud/IBMDeveloperSkillsNetwork-ML0101EN-SkillsNetwork/labs/Module%203/data/creditcard.csv\"\n",
    "\n",
    "# read the input data\n",
    "raw_data=pd.read_csv(url)\n",
    "raw_data"
   ]
  },
  {
   "cell_type": "markdown",
   "id": "4766144e-43c3-4a1c-a6f1-4a1a29cf26af",
   "metadata": {},
   "source": [
    "<div id=\"dataset_analysis\">\n",
    "    <h2>Dataset Analysis</h2>\n",
    "</div>\n"
   ]
  },
  {
   "cell_type": "markdown",
   "id": "da5fc266-b14c-4456-aa67-2d4f3cbea5fa",
   "metadata": {},
   "source": [
    "Each row in the dataset represents a credit card transaction. As shown above, each row has 31 variables. One variable (the last variable in the table above) is called Class and represents the target variable. Your objective will be to train a model that uses the other variables to predict the value of the Class variable. Let's first retrieve basic statistics about the target variable.\n",
    "\n",
    "Note: For confidentiality reasons, the original names of most features are anonymized V1, V2 .. V28. The values of these features are the result of a PCA transformation and are numerical. The feature 'Class' is the target variable and it takes two values: 1 in case of fraud and 0 otherwise. For more information about the dataset please visit this webpage: https://www.kaggle.com/mlg-ulb/creditcardfraud.\n"
   ]
  },
  {
   "cell_type": "code",
   "execution_count": null,
   "id": "d14fcb16-cb37-4311-9d72-70537f972a25",
   "metadata": {},
   "outputs": [],
   "source": [
    "# get the set of distinct classes\n",
    "labels = raw_data.Class.unique()\n",
    "\n",
    "# get the count of each class\n",
    "sizes = raw_data.Class.value_counts().values\n",
    "\n",
    "# plot the class value counts\n",
    "fig, ax = plt.subplots()\n",
    "ax.pie(sizes, labels=labels, autopct='%1.3f%%')\n",
    "ax.set_title('Target Variable Value Counts')\n",
    "plt.show()"
   ]
  },
  {
   "cell_type": "markdown",
   "id": "cc283c25-92d3-4350-a0f0-57c5dc050c19",
   "metadata": {},
   "source": [
    "As shown above, the Class variable has two values: 0 (the credit card transaction is legitimate) and 1 (the credit card transaction is fraudulent). Thus, you need to model a binary classification problem. Moreover, the dataset is highly unbalanced, the target variable classes are not represented equally. This case requires special attention when training or when evaluating the quality of a model. One way of handing this case at train time is to bias the model to pay more attention to the samples in the minority class. The models under the current study will be configured to take into account the class weights of the samples at train/fit time.\n"
   ]
  },
  {
   "cell_type": "markdown",
   "id": "c5fb9e0c-07a2-4799-ae4b-ce1ea04fb0ed",
   "metadata": {},
   "source": [
    "It is also prudent to understand which features affect the model in what way. We can visualize the effect of the different features on the model using the code below.\n"
   ]
  },
  {
   "cell_type": "code",
   "execution_count": null,
   "id": "76547290-b02d-4882-aa26-51dd02831633",
   "metadata": {},
   "outputs": [],
   "source": [
    "correlation_values = raw_data.corr()['Class'].drop('Class')\n",
    "correlation_values.plot(kind='barh', figsize=(10, 6))"
   ]
  },
  {
   "cell_type": "markdown",
   "id": "8af0b5de-53e5-4177-86bf-371eff6388fc",
   "metadata": {},
   "source": [
    "This clearly shows that some features affect the output Class more than the others. For efficient modeling, we may use only the most correlated features.\n"
   ]
  },
  {
   "cell_type": "markdown",
   "id": "32128e91-7020-490d-9dd4-391d4f30d1fb",
   "metadata": {},
   "source": [
    "<div id=\"dataset_preprocessing\">\n",
    "    <h2>Dataset Preprocessing</h2>\n",
    "</div>\n"
   ]
  },
  {
   "cell_type": "markdown",
   "id": "3330a1b9-9de3-4c0f-9507-be4a0a9adc15",
   "metadata": {},
   "source": [
    "You will now prepare the data for training. You will apply standard scaling to the input features and normalize them using $L_1$ norm for the training models to converge quickly. As seen in the data snapshot, there is a parameter called `Time` which we will not be considering for modeling. Hence, features 2 to 30 will be used as input features and feature 31, i.e. Class will be used as the target variable.\n"
   ]
  },
  {
   "cell_type": "code",
   "execution_count": null,
   "id": "e28ed743-6e71-4d33-81ad-8b3c29c41bb2",
   "metadata": {},
   "outputs": [],
   "source": [
    "# standardize features by removing the mean and scaling to unit variance\n",
    "raw_data.iloc[:, 1:30] = StandardScaler().fit_transform(raw_data.iloc[:, 1:30])\n",
    "data_matrix = raw_data.values\n",
    "\n",
    "# X: feature matrix (for this analysis, we exclude the Time variable from the dataset)\n",
    "X = data_matrix[:, 1:30]\n",
    "\n",
    "# y: labels vector\n",
    "y = data_matrix[:, 30]\n",
    "\n",
    "# data normalization\n",
    "X = normalize(X, norm=\"l1\")"
   ]
  },
  {
   "cell_type": "markdown",
   "id": "5f3519f9-37f0-4be3-9fe7-37d8ff2dee38",
   "metadata": {},
   "source": [
    "<div id=\"dataset_split\">\n",
    "    <h2>Dataset Train/Test Split</h2>\n",
    "</div>\n"
   ]
  },
  {
   "cell_type": "markdown",
   "id": "1d7975f9-baea-4452-8ab6-a1c7718b4e96",
   "metadata": {},
   "source": [
    "Now that the dataset is ready for building the classification models, you need to first divide the pre-processed dataset into a subset to be used for training the model (the train set) and a subset to be used for evaluating the quality of the model (the test set).\n"
   ]
  },
  {
   "cell_type": "code",
   "execution_count": null,
   "id": "a55e708b-58bc-4cb1-9ad9-95f92d447067",
   "metadata": {},
   "outputs": [],
   "source": [
    "X_train, X_test, y_train, y_test = train_test_split(X, y, test_size=0.3, random_state=42)"
   ]
  },
  {
   "cell_type": "markdown",
   "id": "42aae8a7-d26f-4bf1-bcef-f7f760beed9f",
   "metadata": {},
   "source": [
    "<div id=\"dt_sklearn\">\n",
    "    <h2>Build a Decision Tree Classifier model with Scikit-Learn</h2>\n",
    "</div>\n"
   ]
  },
  {
   "cell_type": "markdown",
   "id": "48f68eae-c66d-49c1-bf32-a44a670d74e0",
   "metadata": {},
   "source": [
    "Compute the sample weights to be used as input to the train routine so that it takes into account the class imbalance present in this dataset.\n"
   ]
  },
  {
   "cell_type": "code",
   "execution_count": null,
   "id": "8e84d0d7-6d40-45f2-9762-0fa9a02e95b4",
   "metadata": {},
   "outputs": [],
   "source": [
    "w_train = compute_sample_weight('balanced', y_train)"
   ]
  },
  {
   "cell_type": "markdown",
   "id": "8a1c0183-9b2a-4984-adba-08d94ea1809a",
   "metadata": {},
   "source": [
    "Using these sample weights, we may train the Decision Tree classifier. We also make note of the time it takes for training this model to compare it against SVM, later in the lab.\n"
   ]
  },
  {
   "cell_type": "code",
   "execution_count": null,
   "id": "0566d151-1161-4d97-9d1f-00c49094a714",
   "metadata": {},
   "outputs": [],
   "source": [
    "# for reproducible output across multiple function calls, set random_state to a given integer value\n",
    "dt = DecisionTreeClassifier(max_depth=4, random_state=35)\n",
    "\n",
    "dt.fit(X_train, y_train, sample_weight=w_train)"
   ]
  },
  {
   "cell_type": "markdown",
   "id": "dd60a4af-a664-420d-b9bf-a702f5405010",
   "metadata": {},
   "source": [
    "<div id=\"svm_sklearn\">\n",
    "    <h2>Build a Support Vector Machine model with Scikit-Learn</h2>\n",
    "</div>\n"
   ]
  },
  {
   "cell_type": "markdown",
   "id": "ca96da79-5706-4e42-8732-af80aae0ba06",
   "metadata": {},
   "source": [
    "Unlike Decision Trees, we do not need to initiate a separate sample_weight for SVMs. We can simply pass a parameter in the scikit-learn function.\n"
   ]
  },
  {
   "cell_type": "code",
   "execution_count": null,
   "id": "937257b9-0307-4352-97a9-31f11203cc5a",
   "metadata": {},
   "outputs": [],
   "source": [
    "# for reproducible output across multiple function calls, set random_state to a given integer value\n",
    "svm = LinearSVC(class_weight='balanced', random_state=31, loss=\"hinge\", fit_intercept=False)\n",
    "\n",
    "svm.fit(X_train, y_train)"
   ]
  },
  {
   "cell_type": "markdown",
   "id": "f7f09434-908f-428a-b631-6e3957fcda7f",
   "metadata": {},
   "source": [
    "<div id=\"dt_sklearn_snapml\">\n",
    "    <h2>Evaluate the Decision Tree Classifier Models</h2>\n",
    "</div>\n"
   ]
  },
  {
   "cell_type": "markdown",
   "id": "dff43ba0-24bb-4c2e-aa29-daa37793c322",
   "metadata": {},
   "source": [
    "Run the following cell to compute the probabilities of the test samples belonging to the class of fraudulent transactions. \n"
   ]
  },
  {
   "cell_type": "code",
   "execution_count": null,
   "id": "3f941e4e-d7ed-45ff-9036-4f843e7de5f2",
   "metadata": {},
   "outputs": [],
   "source": [
    "y_pred_dt = dt.predict_proba(X_test)[:,1]"
   ]
  },
  {
   "cell_type": "markdown",
   "id": "35fd7d2f-b68a-4f7c-956d-20e850ea2b92",
   "metadata": {},
   "source": [
    "Using these probabilities, we can evaluate the Area Under the Receiver Operating Characteristic Curve (ROC-AUC) score as a metric of model performance. \n",
    "The AUC-ROC score evaluates your model's ability to distinguish positive and negative classes considering all possible probability thresholds. The higher its value, the better the model is considered for separating the two classes of values.\n"
   ]
  },
  {
   "cell_type": "code",
   "execution_count": null,
   "id": "53ab939a-0a10-4cfc-8e2d-dce7953c900a",
   "metadata": {},
   "outputs": [],
   "source": [
    "roc_auc_dt = roc_auc_score(y_test, y_pred_dt)\n",
    "print('Decision Tree ROC-AUC score : {0:.3f}'.format(roc_auc_dt))"
   ]
  },
  {
   "cell_type": "markdown",
   "id": "5a4326b4-9f8c-45f9-a77c-7bb0554b8c06",
   "metadata": {},
   "source": [
    "<div id=\"svm_sklearn_snap\">\n",
    "    <h2>Evaluate the Support Vector Machine Models</h2>\n",
    "</div>\n"
   ]
  },
  {
   "cell_type": "markdown",
   "id": "5fd71fac-5b94-41bc-9875-15f68f4cd74b",
   "metadata": {},
   "source": [
    "Run the following cell to compute the probabilities of the test samples belonging to the class of fraudulent transactions. \n"
   ]
  },
  {
   "cell_type": "code",
   "execution_count": null,
   "id": "341e41b5-af11-4970-a12a-afa4b6e251d2",
   "metadata": {},
   "outputs": [],
   "source": [
    "y_pred_svm = svm.decision_function(X_test)"
   ]
  },
  {
   "cell_type": "markdown",
   "id": "66e16a5f-fa1b-407a-ac1e-6706778010b1",
   "metadata": {},
   "source": [
    "You may now evaluate the accuracy of SVM on the test set in terms of the ROC-AUC score.\n"
   ]
  },
  {
   "cell_type": "code",
   "execution_count": null,
   "id": "0a6e3486-98f1-4ebc-90d1-d4e4e4324374",
   "metadata": {},
   "outputs": [],
   "source": [
    "roc_auc_svm = roc_auc_score(y_test, y_pred_svm)\n",
    "print(\"SVM ROC-AUC score: {0:.3f}\".format(roc_auc_svm))"
   ]
  },
  {
   "cell_type": "markdown",
   "id": "7caadc26-3c41-4329-8a32-98ce9f10a569",
   "metadata": {},
   "source": [
    "## Practice Exercises\n",
    "Based on what you have learnt in this lab, attempt the following questions.\n"
   ]
  },
  {
   "cell_type": "markdown",
   "id": "31f8bcd9-d7ef-40a3-9809-579372196220",
   "metadata": {},
   "source": [
    "Q1. Currently, we have used all 30 features of the dataset for training the models. Use the `corr()` function to find the top 6 features of the dataset to train the models on. \n"
   ]
  },
  {
   "cell_type": "code",
   "execution_count": null,
   "id": "7790e956-7edf-4881-bded-3a91d8ee6d68",
   "metadata": {},
   "outputs": [],
   "source": [
    "# your code goes here\n",
    "correlation_values = abs(....corr()['Class']).drop('Class')\n",
    "correlation_values = correlation_values.sort_values(ascending=False)[...]\n",
    "correlation_values"
   ]
  },
  {
   "cell_type": "markdown",
   "id": "4814c115-a9d3-4c73-9b98-6e1f1931be1d",
   "metadata": {},
   "source": [
    "<details><summary>Click here for solution</summary>\n",
    "\n",
    "```python\n",
    "correlation_values = abs(raw_data.corr()['Class']).drop('Class')\n",
    "correlation_values = correlation_values.sort_values(ascending=False)[:6]\n",
    "correlation_values\n",
    "```\n",
    "\n",
    "<br>\n",
    "The answer should be 'V3','V10','V12','V14','V16' and 'V17'.\n",
    "</details>\n"
   ]
  },
  {
   "cell_type": "markdown",
   "id": "1ff0d7da-769c-400e-82fa-4fc432eae311",
   "metadata": {},
   "source": [
    "Q2. Using only these 6 features, modify the input variable for training.\n"
   ]
  },
  {
   "cell_type": "code",
   "execution_count": null,
   "id": "e4fd75c4-0ef4-49d8-8df0-f1b997be1a51",
   "metadata": {},
   "outputs": [],
   "source": [
    "# your code goes here"
   ]
  },
  {
   "cell_type": "markdown",
   "id": "9054bf90-adaa-4dfa-acce-fe9f8421af9e",
   "metadata": {},
   "source": [
    "<details><summary>Click here for solution</summary>\n",
    "Replace the statement defining the variable `X` with the following and run the cell again.\n",
    "<br>\n",
    "\n",
    "```python\n",
    "X = data_matrix[:,[3,10,12,14,16,17]]\n",
    "```\n",
    "\n",
    "</details>\n"
   ]
  },
  {
   "cell_type": "markdown",
   "id": "8fd8d7da-3757-419d-9243-908fc8d517b9",
   "metadata": {},
   "source": [
    "Q3. Execute the Decision Tree model for this modified input variable. How does the value of ROC-AUC metric change?\n"
   ]
  },
  {
   "cell_type": "markdown",
   "id": "2f6b3738-de70-4bcb-a659-56be84ca8ee3",
   "metadata": {},
   "source": [
    "<details><summary>Click here for solution</summary>\n",
    "You should observe an increase in the ROC-AUC value with this change for the Decision Tree model.\n",
    "</details>\n"
   ]
  },
  {
   "cell_type": "markdown",
   "id": "e5459c09-d182-436d-8167-ba7f807aef49",
   "metadata": {},
   "source": [
    "Q4. Execute the SVM model for this modified input variable. How does the value of ROC-AUC metric change?\n"
   ]
  },
  {
   "cell_type": "markdown",
   "id": "c89c2900-f99f-49a1-aecb-1c26272e1a16",
   "metadata": {},
   "source": [
    "<details><summary>Click here for solution</summary>\n",
    "You should observe a decrease in the ROC-AUC value with this change for the SVM model.\n",
    "</details>\n"
   ]
  },
  {
   "cell_type": "markdown",
   "id": "d0cc143d-a4a3-4ed0-84be-2aa206aee991",
   "metadata": {},
   "source": [
    "Q5. What are the inferences you can draw about Decision Trees and SVMs with what you have learnt in this lab?\n"
   ]
  },
  {
   "cell_type": "markdown",
   "id": "c89fc432-6d0a-4262-9490-244561c3a7a4",
   "metadata": {},
   "source": [
    "<details><summary>Click here for solution</summary>\n",
    "\n",
    "- With a larger set of features, SVM performed relatively better in comparison to the Decision Trees.\n",
    "- Decision Trees benefited from feature selection and performed better.\n",
    "- SVMs may require higher feature dimensionality to create an efficient decision hyperplane.\n",
    "</details>\n"
   ]
  },
  {
   "cell_type": "markdown",
   "id": "d982656f-f4ef-48bf-ae0a-7b82034c7a23",
   "metadata": {},
   "source": [
    "### Congratulations! You're ready to move on to your next lesson!\n",
    " \n",
    "## Author\n",
    " \n",
    "<a href=\"https://www.linkedin.com/in/abhishek-gagneja-23051987/\" target=\"_blank\">Abishek Gagneja</a>\n",
    " \n",
    " \n",
    " ### Other Contributors\n",
    " \n",
    "<a href=\"https://www.linkedin.com/in/jpgrossman/\" target=\"_blank\">Jeff Grossman</a>\n",
    "\n",
    "<!--\n",
    "## Changelog\n",
    " \n",
    "| Date | Version | Changed by | Change Description |\n",
    "\n",
    "|:------------|:------|:------------------|:---------------------------------------|\n",
    "\n",
    "| 2024--1405 | 1.|0  Abhishek Gagnean    | Update content and practice exercis|es>\n",
    " \n"
   ]
  },
  {
   "cell_type": "markdown",
   "id": "c72a3185-27af-4752-8c79-2c48e55ab02c",
   "metadata": {},
   "source": [
    "## <h3 align=\"center\"> © IBM Corporation. All rights reserved. <h3/>\n"
   ]
  }
 ],
 "metadata": {
  "kernelspec": {
   "display_name": "mlbasic",
   "language": "python",
   "name": "python3"
  },
  "language_info": {
   "codemirror_mode": {
    "name": "ipython",
    "version": 3
   },
   "file_extension": ".py",
   "mimetype": "text/x-python",
   "name": "python",
   "nbconvert_exporter": "python",
   "pygments_lexer": "ipython3",
   "version": "3.12.9"
  },
  "prev_pub_hash": "e4a378c2f5b6144d47f9f9e22188613f8521d0594defd52e93c38f8c51ba2243"
 },
 "nbformat": 4,
 "nbformat_minor": 4
}
